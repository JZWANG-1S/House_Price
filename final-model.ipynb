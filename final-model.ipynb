{
 "cells": [
  {
   "cell_type": "code",
   "execution_count": null,
   "metadata": {},
   "outputs": [],
   "source": [
    "import pandas as pd\n",
    "import numpy as np\n",
    "import warnings\n",
    "\n",
    "# deal with potential warnings\n",
    "warnings.filterwarnings(action='ignore')"
   ]
  },
  {
   "cell_type": "code",
   "execution_count": null,
   "metadata": {},
   "outputs": [],
   "source": [
    "# read data\n",
    "x_train = pd.read_csv('final_train.csv')\n",
    "y = pd.read_csv('final_price.csv')\n",
    "x_test = pd.read_csv('final_test.csv')\n",
    "test_id = pd.read_csv('test.csv').Id\n",
    "\n",
    "# prepare for stacking\n",
    "price_train = pd.DataFrame()\n",
    "price_test = pd.DataFrame()"
   ]
  },
  {
   "cell_type": "code",
   "execution_count": null,
   "metadata": {},
   "outputs": [],
   "source": [
    "from sklearn.linear_model import Ridge, ElasticNet, Lasso\n",
    "from sklearn.model_selection import GridSearchCV\n",
    "from sklearn.ensemble import AdaBoostRegressor\n",
    "from sklearn.ensemble import RandomForestRegressor\n",
    "import xgboost as xgb\n",
    "from sklearn.neural_network import MLPRegressor\n",
    "from sklearn.model_selection import GridSearchCV\n",
    "import matplotlib.pyplot as plt"
   ]
  },
  {
   "cell_type": "markdown",
   "metadata": {},
   "source": [
    "### Lasso"
   ]
  },
  {
   "cell_type": "code",
   "execution_count": null,
   "metadata": {},
   "outputs": [],
   "source": [
    "param_grid = {'alpha':np.arange(0, 0.0006, 0.0001)}\n",
    "model_Lasso = Lasso()\n",
    "Lasso_clf = GridSearchCV(model_Lasso, param_grid, cv=5, scoring='neg_mean_squared_log_error')\n",
    "Lasso_clf.fit(x_train, y)"
   ]
  },
  {
   "cell_type": "code",
   "execution_count": null,
   "metadata": {},
   "outputs": [],
   "source": [
    "print('Best alpha for Lasso regression is:', Lasso_clf.best_estimator_.alpha)\n",
    "print('Log score for best Lasso model is:', np.sqrt(-Lasso_clf.best_score_))"
   ]
  },
  {
   "cell_type": "code",
   "execution_count": null,
   "metadata": {},
   "outputs": [],
   "source": [
    "# produce price feature\n",
    "y_pre1 = Lasso_clf.best_estimator_.predict(x_train).reshape(len(x_train), )\n",
    "y_pre2 = Lasso_clf.best_estimator_.predict(x_test).reshape(len(x_test), )\n",
    "price_train['Lasso'] = y_pre1\n",
    "price_test['Lasso'] = y_pre2"
   ]
  },
  {
   "cell_type": "markdown",
   "metadata": {},
   "source": [
    "### ElasticNet"
   ]
  },
  {
   "cell_type": "code",
   "execution_count": null,
   "metadata": {},
   "outputs": [],
   "source": [
    "model_ENet = ElasticNet()\n",
    "param_grid = {'alpha':np.arange(0, 0.001, 0.0001)}\n",
    "model_ENet = Lasso()\n",
    "Enet_clf = GridSearchCV(model_ENet, param_grid, cv=5, scoring='neg_mean_squared_log_error')\n",
    "Enet_clf.fit(x_train, y)"
   ]
  },
  {
   "cell_type": "code",
   "execution_count": null,
   "metadata": {},
   "outputs": [],
   "source": [
    "print('Best alpha for Enet regression is:', Enet_clf.best_estimator_.alpha)\n",
    "print('Log score for best Enet model is:', np.sqrt(-Enet_clf.best_score_))"
   ]
  },
  {
   "cell_type": "code",
   "execution_count": null,
   "metadata": {},
   "outputs": [],
   "source": [
    "# produce price feature\n",
    "y_pre1 = Enet_clf.best_estimator_.predict(x_train).reshape(len(x_train), )\n",
    "y_pre2 = Enet_clf.best_estimator_.predict(x_test).reshape(len(x_test), )\n",
    "price_train['Enet'] = y_pre1\n",
    "price_test['Enet'] = y_pre2"
   ]
  },
  {
   "cell_type": "markdown",
   "metadata": {},
   "source": [
    "### xgb"
   ]
  },
  {
   "cell_type": "markdown",
   "metadata": {},
   "source": [
    "Pick n_estimators at first "
   ]
  },
  {
   "cell_type": "code",
   "execution_count": null,
   "metadata": {},
   "outputs": [],
   "source": [
    "xgb = xgb.XGBRegressor(seed=1885)\n",
    "\n",
    "param_test0 = {'n_estimators':np.arange(200, 400, 10),\n",
    "               'learning_rate':[0.1]}\n",
    "\n",
    "xgb0_clf = GridSearchCV(xgb, param_test0, cv=5, scoring='neg_mean_squared_log_error')\n",
    "xgb0_clf.fit(x_train, y)\n",
    "\n",
    "print('Best hyperparameter for this step:', xgb0_clf.best_params_)\n",
    "print('log score for this step is:', np.sqrt(-xgb0_clf.best_score_))"
   ]
  },
  {
   "cell_type": "markdown",
   "metadata": {},
   "source": [
    "Tune max_depth and min_child_weight"
   ]
  },
  {
   "cell_type": "code",
   "execution_count": null,
   "metadata": {},
   "outputs": [],
   "source": [
    "param_test1 = {'n_estimators':[330],\n",
    "               'max_depth':range(1, 10, 1),\n",
    "               'min_child_weight':range(1,10),\n",
    "               'learning_rate':[0.1]}\n",
    "\n",
    "xgb1_clf = GridSearchCV(xgb, param_test1, cv=5, scoring='neg_mean_squared_log_error')\n",
    "xgb1_clf.fit(x_train, y)\n",
    "\n",
    "print('Best hyperparameter for this step:', xgb1_clf.best_params_)\n",
    "print('log score for this step is:', np.sqrt(xgb1_clf.best_score_))"
   ]
  },
  {
   "cell_type": "markdown",
   "metadata": {},
   "source": [
    "Tune gamma"
   ]
  },
  {
   "cell_type": "code",
   "execution_count": null,
   "metadata": {},
   "outputs": [],
   "source": [
    "param_test2 = {'n_estimators':[330],\n",
    "               'gamma':np.arange(0, 1, 0.2),\n",
    "               'max_depth':[5],\n",
    "               'min_child_weight':[4],\n",
    "               'learning_rate':[0.1]}\n",
    "xgb2_clf = GridSearchCV(xgb, param_test2, cv=5, scoring='neg_mean_squared_log_error')\n",
    "xgb2_clf.fit(x_train, y)\n",
    "\n",
    "print('Best hyperparameter for this step:', xgb2_clf.best_params_)\n",
    "print('log score for this step is:', np.sqrt(xgb2_clf.best_score_))"
   ]
  },
  {
   "cell_type": "markdown",
   "metadata": {},
   "source": [
    "Tune subsample and colsample_bytree"
   ]
  },
  {
   "cell_type": "code",
   "execution_count": null,
   "metadata": {},
   "outputs": [],
   "source": [
    "param_test3 = {'subsample':[i/10.0 for i in range(1,10)],\n",
    "               'colsample_bytree':[i/10.0 for i in range(1,10)],\n",
    "               'gamma':[0],\n",
    "               'max_depth':[5],\n",
    "               'min_child_weight':[4],\n",
    "               'n_estimators':[330],\n",
    "               'learning_rate':[0.1]}\n",
    "xgb3_clf = GridSearchCV(xgb, param_test3, cv=5, scoring='neg_mean_squared_log_error')\n",
    "xgb3_clf.fit(x_train, y)\n",
    "\n",
    "print('Best hyperparameter for this step:', xgb3_clf.best_params_)\n",
    "print('R2 score for this step is:', np.sqrt(xgb3_clf.best_score_))"
   ]
  },
  {
   "cell_type": "markdown",
   "metadata": {},
   "source": [
    "Tuning Regularization Parameters"
   ]
  },
  {
   "cell_type": "code",
   "execution_count": null,
   "metadata": {},
   "outputs": [],
   "source": [
    "param_test4 = {'reg_alpha':[0.1, 0.01, 0, 1, 100],\n",
    "               'subsample':[0.8],\n",
    "               'colsample_bytree':[0.2],\n",
    "               'gamma':[0],\n",
    "               'max_depth':[5],\n",
    "               'min_child_weight':[4],\n",
    "               'n_estimators':[330],\n",
    "               'learning_rate':[0.1]}\n",
    "xgb4_clf = GridSearchCV(xgb, param_test4, cv=5, scoring='neg_mean_squared_log_error')\n",
    "xgb4_clf.fit(x_train, y)\n",
    "\n",
    "print('Best hyperparameter for this step:', xgb4_clf.best_params_)\n",
    "print('R2 score for this step is:', np.sqrt(xgb4_clf.best_score_))"
   ]
  },
  {
   "cell_type": "markdown",
   "metadata": {},
   "source": [
    "Reduce Learning Rate and add more trees"
   ]
  },
  {
   "cell_type": "code",
   "execution_count": null,
   "metadata": {},
   "outputs": [],
   "source": [
    "param_test5 = {'subsample':[0.8],\n",
    "               'reg_alpha':[0],\n",
    "               'colsample_bytree':[0.2],\n",
    "               'gamma':[0],\n",
    "               'max_depth':[5],\n",
    "               'min_child_weight':[4],\n",
    "               'n_estimators':[700],\n",
    "               'learning_rate':[0.05]}\n",
    "xgb5_clf = GridSearchCV(xgb, param_test5, cv=5, scoring='neg_mean_squared_log_error')\n",
    "xgb5_clf.fit(x_train, y)\n",
    "\n",
    "print('Best hyperparameter for xgboost:', xgb5_clf.best_estimator_)\n",
    "print('Log score for best xgboost model:', np.sqrt(-xgb5_clf.best_score_))"
   ]
  },
  {
   "cell_type": "code",
   "execution_count": null,
   "metadata": {},
   "outputs": [],
   "source": [
    "# produce price feature\n",
    "y_pre1 = xgb5_clf.best_estimator_.predict(x_train).reshape(len(x_train), )\n",
    "y_pre2 = xgb5_clf.best_estimator_.predict(x_test).reshape(len(x_test), )\n",
    "price_train['xgb'] = y_pre1\n",
    "price_test['xgb'] = y_pre2"
   ]
  },
  {
   "cell_type": "markdown",
   "metadata": {},
   "source": [
    "### stack by Linear combination"
   ]
  },
  {
   "cell_type": "code",
   "execution_count": null,
   "metadata": {},
   "outputs": [],
   "source": [
    "preds = 0.7*price_test['Lasso'] + 0.*price_test['Enet'] + 0.3*price_test['xgb']\n",
    "preds = np.expm1(preds)"
   ]
  },
  {
   "cell_type": "markdown",
   "metadata": {},
   "source": [
    "### submission file"
   ]
  },
  {
   "cell_type": "code",
   "execution_count": null,
   "metadata": {},
   "outputs": [],
   "source": [
    "solution = pd.DataFrame({\"id\":test_id, \"SalePrice\":preds})\n",
    "solution.to_csv(\"final_submission.csv\", index = False)"
   ]
  }
 ],
 "metadata": {
  "kernelspec": {
   "display_name": "Python 3",
   "language": "python",
   "name": "python3"
  },
  "language_info": {
   "codemirror_mode": {
    "name": "ipython",
    "version": 3
   },
   "file_extension": ".py",
   "mimetype": "text/x-python",
   "name": "python",
   "nbconvert_exporter": "python",
   "pygments_lexer": "ipython3",
   "version": "3.6.4"
  }
 },
 "nbformat": 4,
 "nbformat_minor": 2
}
